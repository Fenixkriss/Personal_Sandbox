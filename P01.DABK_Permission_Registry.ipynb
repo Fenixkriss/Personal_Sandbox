{
 "cells": [
  {
   "cell_type": "markdown",
   "metadata": {},
   "source": [
    "### P01: DABK Permission Registry\n",
    "Task: Statistical DataSet Cleaning and Descriptive Analysis"
   ]
  },
  {
   "cell_type": "markdown",
   "metadata": {},
   "source": [
    "### Unified registry of preparatory and construction work permissions and certify the commissioning of completed facilities.\n",
    "\n",
    "Owner: State Architectural and Construction Inspectorate of Ukraine\n",
    "\n",
    "Source: https://data.gov.ua/"
   ]
  },
  {
   "cell_type": "code",
   "execution_count": 1,
   "metadata": {},
   "outputs": [],
   "source": [
    "#modules & library setup\n",
    "import pandas as pd\n",
    "import numpy as np\n",
    "import matplotlib.pyplot as plt\n",
    "import seaborn as sns\n",
    "import os # for save/respawn point"
   ]
  },
  {
   "cell_type": "code",
   "execution_count": 2,
   "metadata": {},
   "outputs": [],
   "source": [
    "# Load dataset\n",
    "# Online version updated on a regular basis: Online updated on regular basis\n",
    "# Backup: source_file = \"https://drive.google.com/file/d/1lTiXkogOyhDRp8-yZpzg5lUDDeJOQH0z/view?usp=sharing\"\n",
    "# Local:  source_file = \"input\\dabk_data.csv\"\n",
    "source_file = \"https://data.gov.ua/dataset/879552eb-b94a-4998-b16d-8f75321f4697/resource/f6b0a966-9a56-474c-9b04-3f250661afc0/download/data.csv\"\n",
    "df = pd.read_csv(source_file)"
   ]
  },
  {
   "cell_type": "markdown",
   "metadata": {},
   "source": [
    "### Dataset Overview"
   ]
  },
  {
   "cell_type": "code",
   "execution_count": 3,
   "metadata": {},
   "outputs": [
    {
     "data": {
      "text/html": [
       "<div>\n",
       "<style scoped>\n",
       "    .dataframe tbody tr th:only-of-type {\n",
       "        vertical-align: middle;\n",
       "    }\n",
       "\n",
       "    .dataframe tbody tr th {\n",
       "        vertical-align: top;\n",
       "    }\n",
       "\n",
       "    .dataframe thead th {\n",
       "        text-align: right;\n",
       "    }\n",
       "</style>\n",
       "<table border=\"1\" class=\"dataframe\">\n",
       "  <thead>\n",
       "    <tr style=\"text-align: right;\">\n",
       "      <th></th>\n",
       "      <th>id</th>\n",
       "      <th>EdrkoNo</th>\n",
       "      <th>Date03</th>\n",
       "      <th>org_name</th>\n",
       "      <th>RoomsAdd</th>\n",
       "      <th>RecDistrict</th>\n",
       "      <th>dk018code</th>\n",
       "      <th>square</th>\n",
       "      <th>k_pov</th>\n",
       "      <th>kadastr</th>\n",
       "      <th>...</th>\n",
       "      <th>avtsurname</th>\n",
       "      <th>avtcert</th>\n",
       "      <th>remreason</th>\n",
       "      <th>revedr</th>\n",
       "      <th>ExpOrg</th>\n",
       "      <th>ExpEDR</th>\n",
       "      <th>exp</th>\n",
       "      <th>expsert</th>\n",
       "      <th>zemldoc</th>\n",
       "      <th>ClassNaslidkiv</th>\n",
       "    </tr>\n",
       "  </thead>\n",
       "  <tbody>\n",
       "    <tr>\n",
       "      <th>0</th>\n",
       "      <td>2492225</td>\n",
       "      <td>ДЦ 061200010001</td>\n",
       "      <td>2020-01-01</td>\n",
       "      <td>Департамент Державної архітектурно-будівельної...</td>\n",
       "      <td>6</td>\n",
       "      <td>Житловий будинок, господарські будівлі та споруди</td>\n",
       "      <td>1110.4. Будинки дачні та садові</td>\n",
       "      <td>0.0</td>\n",
       "      <td>0</td>\n",
       "      <td>1423984400:02:000:4404,</td>\n",
       "      <td>...</td>\n",
       "      <td></td>\n",
       "      <td>NaN</td>\n",
       "      <td>Фізична особа</td>\n",
       "      <td>NaN</td>\n",
       "      <td>NaN</td>\n",
       "      <td>NaN</td>\n",
       "      <td></td>\n",
       "      <td>NaN</td>\n",
       "      <td>договір купівлі-продажу</td>\n",
       "      <td>1</td>\n",
       "    </tr>\n",
       "    <tr>\n",
       "      <th>1</th>\n",
       "      <td>2492228</td>\n",
       "      <td>КД  061200020010</td>\n",
       "      <td>2020-01-02</td>\n",
       "      <td>Відділ державного архітектурно-будівельного ко...</td>\n",
       "      <td>6</td>\n",
       "      <td>Реконструкція житлового будинку з розширенням ...</td>\n",
       "      <td>1110.3. Будинки садибного типу</td>\n",
       "      <td>0.0</td>\n",
       "      <td>0</td>\n",
       "      <td>3510300000:03:105:0004,</td>\n",
       "      <td>...</td>\n",
       "      <td></td>\n",
       "      <td>NaN</td>\n",
       "      <td>Фізична особа</td>\n",
       "      <td>NaN</td>\n",
       "      <td>NaN</td>\n",
       "      <td>NaN</td>\n",
       "      <td></td>\n",
       "      <td>NaN</td>\n",
       "      <td>договір сервітуту</td>\n",
       "      <td>1</td>\n",
       "    </tr>\n",
       "    <tr>\n",
       "      <th>2</th>\n",
       "      <td>2492231</td>\n",
       "      <td>КД  061200020016</td>\n",
       "      <td>2020-01-02</td>\n",
       "      <td>ВІдділ державного архітектурно-будівельного ко...</td>\n",
       "      <td>6</td>\n",
       "      <td>Реконструкція житлового будинку з розширенням ...</td>\n",
       "      <td>1110.3. Будинки садибного типу</td>\n",
       "      <td>0.0</td>\n",
       "      <td>0</td>\n",
       "      <td>3510390400:57:000:0050,</td>\n",
       "      <td>...</td>\n",
       "      <td></td>\n",
       "      <td>NaN</td>\n",
       "      <td>Фізична особа</td>\n",
       "      <td>NaN</td>\n",
       "      <td>NaN</td>\n",
       "      <td>NaN</td>\n",
       "      <td></td>\n",
       "      <td>NaN</td>\n",
       "      <td>договір сервітуту</td>\n",
       "      <td>1</td>\n",
       "    </tr>\n",
       "  </tbody>\n",
       "</table>\n",
       "<p>3 rows × 31 columns</p>\n",
       "</div>"
      ],
      "text/plain": [
       "        id           EdrkoNo      Date03  \\\n",
       "0  2492225   ДЦ 061200010001  2020-01-01   \n",
       "1  2492228  КД  061200020010  2020-01-02   \n",
       "2  2492231  КД  061200020016  2020-01-02   \n",
       "\n",
       "                                            org_name  RoomsAdd  \\\n",
       "0  Департамент Державної архітектурно-будівельної...         6   \n",
       "1  Відділ державного архітектурно-будівельного ко...         6   \n",
       "2  ВІдділ державного архітектурно-будівельного ко...         6   \n",
       "\n",
       "                                         RecDistrict  \\\n",
       "0  Житловий будинок, господарські будівлі та споруди   \n",
       "1  Реконструкція житлового будинку з розширенням ...   \n",
       "2  Реконструкція житлового будинку з розширенням ...   \n",
       "\n",
       "                         dk018code  square  k_pov                  kadastr  \\\n",
       "0  1110.4. Будинки дачні та садові     0.0      0  1423984400:02:000:4404,   \n",
       "1   1110.3. Будинки садибного типу     0.0      0  3510300000:03:105:0004,   \n",
       "2   1110.3. Будинки садибного типу     0.0      0  3510390400:57:000:0050,   \n",
       "\n",
       "   ... avtsurname  avtcert      remreason revedr ExpOrg ExpEDR  exp expsert  \\\n",
       "0  ...                 NaN  Фізична особа    NaN    NaN    NaN          NaN   \n",
       "1  ...                 NaN  Фізична особа    NaN    NaN    NaN          NaN   \n",
       "2  ...                 NaN  Фізична особа    NaN    NaN    NaN          NaN   \n",
       "\n",
       "                   zemldoc ClassNaslidkiv  \n",
       "0  договір купівлі-продажу              1  \n",
       "1        договір сервітуту              1  \n",
       "2        договір сервітуту              1  \n",
       "\n",
       "[3 rows x 31 columns]"
      ]
     },
     "execution_count": 3,
     "metadata": {},
     "output_type": "execute_result"
    }
   ],
   "source": [
    "df.head(3)"
   ]
  },
  {
   "cell_type": "code",
   "execution_count": 4,
   "metadata": {
    "scrolled": false
   },
   "outputs": [
    {
     "name": "stdout",
     "output_type": "stream",
     "text": [
      "<class 'pandas.core.frame.DataFrame'>\n",
      "RangeIndex: 45934 entries, 0 to 45933\n",
      "Data columns (total 31 columns):\n",
      " #   Column          Non-Null Count  Dtype  \n",
      "---  ------          --------------  -----  \n",
      " 0   id              45934 non-null  int64  \n",
      " 1   EdrkoNo         45931 non-null  object \n",
      " 2   Date03          45934 non-null  object \n",
      " 3   org_name        27974 non-null  object \n",
      " 4   RoomsAdd        45934 non-null  int64  \n",
      " 5   RecDistrict     45934 non-null  object \n",
      " 6   dk018code       45546 non-null  object \n",
      " 7   square          45934 non-null  float64\n",
      " 8   k_pov           45934 non-null  int64  \n",
      " 9   kadastr         45934 non-null  object \n",
      " 10  RegDistrict     42649 non-null  object \n",
      " 11  RegSity         42650 non-null  float64\n",
      " 12  RegRedSt        45934 non-null  int64  \n",
      " 13  RegStreet       42634 non-null  object \n",
      " 14  RegHome         42594 non-null  object \n",
      " 15  customer        45934 non-null  object \n",
      " 16  reccomit        9648 non-null   float64\n",
      " 17  RemDecisNo      15618 non-null  object \n",
      " 18  repedr          9900 non-null   float64\n",
      " 19  tnsurname       45934 non-null  object \n",
      " 20  tnsert          16552 non-null  object \n",
      " 21  avtsurname      45934 non-null  object \n",
      " 22  avtcert         778 non-null    object \n",
      " 23  remreason       45224 non-null  object \n",
      " 24  revedr          8476 non-null   object \n",
      " 25  ExpOrg          8953 non-null   object \n",
      " 26  ExpEDR          7145 non-null   object \n",
      " 27  exp             45934 non-null  object \n",
      " 28  expsert         6980 non-null   object \n",
      " 29  zemldoc         45865 non-null  object \n",
      " 30  ClassNaslidkiv  45934 non-null  int64  \n",
      "dtypes: float64(4), int64(5), object(22)\n",
      "memory usage: 10.9+ MB\n"
     ]
    }
   ],
   "source": [
    "df.info()"
   ]
  },
  {
   "cell_type": "markdown",
   "metadata": {},
   "source": [
    "### Missing Data Lookup\n"
   ]
  },
  {
   "cell_type": "code",
   "execution_count": 5,
   "metadata": {
    "scrolled": false
   },
   "outputs": [
    {
     "data": {
      "text/plain": [
       "<AxesSubplot:>"
      ]
     },
     "execution_count": 5,
     "metadata": {},
     "output_type": "execute_result"
    },
    {
     "data": {
      "image/png": "[encoded data removed]",
      "text/plain": [
       "<Figure size 1080x720 with 2 Axes>"
      ]
     },
     "metadata": {},
     "output_type": "display_data"
    }
   ],
   "source": [
    "# Missing Data Heatmap\n",
    "# We have not so many columns and can visualize missing data via heatmap\n",
    "\n",
    "cols = df.columns\n",
    "colours = ['#000099', '#ffff00'] # specify the colours - yellow is missing. blue is not missing.\n",
    "sns.set(rc={'figure.figsize':(15, 10)})\n",
    "sns.heatmap(df[cols].isnull(), cmap=sns.color_palette(colours))"
   ]
  },
  {
   "cell_type": "code",
   "execution_count": 6,
   "metadata": {
    "scrolled": true
   },
   "outputs": [
    {
     "name": "stdout",
     "output_type": "stream",
     "text": [
      "id - 0.0%\n",
      "EdrkoNo - 0.0%\n",
      "Date03 - 0.0%\n",
      "org_name - 39.0%\n",
      "RoomsAdd - 0.0%\n",
      "RecDistrict - 0.0%\n",
      "dk018code - 1.0%\n",
      "square - 0.0%\n",
      "k_pov - 0.0%\n",
      "kadastr - 0.0%\n",
      "RegDistrict - 7.0%\n",
      "RegSity - 7.0%\n",
      "RegRedSt - 0.0%\n",
      "RegStreet - 7.0%\n",
      "RegHome - 7.0%\n",
      "customer - 0.0%\n",
      "reccomit - 79.0%\n",
      "RemDecisNo - 66.0%\n",
      "repedr - 78.0%\n",
      "tnsurname - 0.0%\n",
      "tnsert - 64.0%\n",
      "avtsurname - 0.0%\n",
      "avtcert - 98.0%\n",
      "remreason - 2.0%\n",
      "revedr - 82.0%\n",
      "ExpOrg - 81.0%\n",
      "ExpEDR - 84.0%\n",
      "exp - 0.0%\n",
      "expsert - 85.0%\n",
      "zemldoc - 0.0%\n",
      "ClassNaslidkiv - 0.0%\n"
     ]
    }
   ],
   "source": [
    "# Missing Data Percentage List\n",
    "for col in df.columns:\n",
    "    pct_missing = np.mean(df[col].isnull())\n",
    "    print('{} - {}%'.format(col, round(pct_missing*100)))"
   ]
  },
  {
   "cell_type": "markdown",
   "metadata": {},
   "source": [
    "### Missing Data. Drop the Feature"
   ]
  },
  {
   "cell_type": "code",
   "execution_count": 7,
   "metadata": {},
   "outputs": [],
   "source": [
    "# We can exlude(drop off) feature (column) with an extensive percentage of missing data\n",
    "to_drop = ['reccomit', 'repedr', 'avtcert', 'revedr', 'ExpOrg', 'ExpEDR', 'expsert']\n",
    "df.drop(to_drop, inplace=True, axis=1)"
   ]
  },
  {
   "cell_type": "code",
   "execution_count": 8,
   "metadata": {
    "scrolled": true
   },
   "outputs": [],
   "source": [
    "# After a brief analysis, we can exclude unneccesarry data: Local expert organization, name of expert etc. \n",
    "# Exclude organization inner number, identification and other inner info\n",
    "to_drop = ['exp', 'remreason', 'tnsurname', 'tnsert', 'avtsurname', 'customer', 'RemDecisNo', 'org_name']\n",
    "df.drop(to_drop, inplace=True, axis=1)"
   ]
  },
  {
   "cell_type": "code",
   "execution_count": 9,
   "metadata": {},
   "outputs": [],
   "source": [
    "# We dont need exact adress (index, street and number) because, very often is missleading. The address can be both legal adress of business registration and a construction side\n",
    "# But in both cases, they will be in one region and city.\n",
    "to_drop = ['RegSity', 'RegStreet', 'RegHome', 'RegRedSt']\n",
    "df.drop(to_drop, inplace=True, axis=1)"
   ]
  },
  {
   "cell_type": "code",
   "execution_count": 10,
   "metadata": {
    "scrolled": true
   },
   "outputs": [
    {
     "name": "stdout",
     "output_type": "stream",
     "text": [
      "id - 0.0%\n",
      "EdrkoNo - 0.0%\n",
      "Date03 - 0.0%\n",
      "RoomsAdd - 0.0%\n",
      "RecDistrict - 0.0%\n",
      "dk018code - 1.0%\n",
      "square - 0.0%\n",
      "k_pov - 0.0%\n",
      "kadastr - 0.0%\n",
      "RegDistrict - 7.0%\n",
      "zemldoc - 0.0%\n",
      "ClassNaslidkiv - 0.0%\n"
     ]
    }
   ],
   "source": [
    "# Missing Data Percentage List\n",
    "for col in df.columns:\n",
    "    pct_missing = np.mean(df[col].isnull())\n",
    "    print('{} - {}%'.format(col, round(pct_missing*100)))"
   ]
  },
  {
   "cell_type": "code",
   "execution_count": 11,
   "metadata": {},
   "outputs": [
    {
     "data": {
      "text/plain": [
       "EdrkoNo           3\n",
       "dk018code       388\n",
       "RegDistrict    3285\n",
       "zemldoc          69\n",
       "dtype: int64"
      ]
     },
     "execution_count": 11,
     "metadata": {},
     "output_type": "execute_result"
    }
   ],
   "source": [
    "# Missing Data Exact Count\n",
    "null_columns=df.columns[df.isnull().any()]\n",
    "df[null_columns].isnull().sum()"
   ]
  },
  {
   "cell_type": "code",
   "execution_count": 12,
   "metadata": {},
   "outputs": [],
   "source": [
    "# We can drop without hesitation observation with NaN data in 'EdrkoNo' (3 entries) and 'zemldoc' (69 entries) features.\n",
    "df.dropna(subset=['EdrkoNo', 'zemldoc'], axis=0, inplace=True)\n",
    "df.reset_index(drop=True, inplace=True)"
   ]
  },
  {
   "cell_type": "code",
   "execution_count": 13,
   "metadata": {
    "scrolled": false
   },
   "outputs": [
    {
     "data": {
      "text/plain": [
       "dk018code       382\n",
       "RegDistrict    3277\n",
       "dtype: int64"
      ]
     },
     "execution_count": 13,
     "metadata": {},
     "output_type": "execute_result"
    }
   ],
   "source": [
    "# Missing Data Exact Count\n",
    "null_columns=df.columns[df.isnull().any()]\n",
    "df[null_columns].isnull().sum()"
   ]
  },
  {
   "cell_type": "code",
   "execution_count": 14,
   "metadata": {
    "scrolled": true
   },
   "outputs": [
    {
     "data": {
      "text/html": [
       "<div>\n",
       "<style scoped>\n",
       "    .dataframe tbody tr th:only-of-type {\n",
       "        vertical-align: middle;\n",
       "    }\n",
       "\n",
       "    .dataframe tbody tr th {\n",
       "        vertical-align: top;\n",
       "    }\n",
       "\n",
       "    .dataframe thead th {\n",
       "        text-align: right;\n",
       "    }\n",
       "</style>\n",
       "<table border=\"1\" class=\"dataframe\">\n",
       "  <thead>\n",
       "    <tr style=\"text-align: right;\">\n",
       "      <th></th>\n",
       "      <th>id</th>\n",
       "      <th>EdrkoNo</th>\n",
       "      <th>Date03</th>\n",
       "      <th>RoomsAdd</th>\n",
       "      <th>RecDistrict</th>\n",
       "      <th>dk018code</th>\n",
       "      <th>square</th>\n",
       "      <th>k_pov</th>\n",
       "      <th>kadastr</th>\n",
       "      <th>RegDistrict</th>\n",
       "      <th>zemldoc</th>\n",
       "      <th>ClassNaslidkiv</th>\n",
       "    </tr>\n",
       "  </thead>\n",
       "  <tbody>\n",
       "    <tr>\n",
       "      <th>0</th>\n",
       "      <td>2492225</td>\n",
       "      <td>ДЦ 061200010001</td>\n",
       "      <td>2020-01-01</td>\n",
       "      <td>6</td>\n",
       "      <td>Житловий будинок, господарські будівлі та споруди</td>\n",
       "      <td>1110.4. Будинки дачні та садові</td>\n",
       "      <td>0.0</td>\n",
       "      <td>0</td>\n",
       "      <td>1423984400:02:000:4404,</td>\n",
       "      <td>Донецька обл., Мангушський р-н, с. Білосарайсь...</td>\n",
       "      <td>договір купівлі-продажу</td>\n",
       "      <td>1</td>\n",
       "    </tr>\n",
       "    <tr>\n",
       "      <th>1</th>\n",
       "      <td>2492228</td>\n",
       "      <td>КД  061200020010</td>\n",
       "      <td>2020-01-02</td>\n",
       "      <td>6</td>\n",
       "      <td>Реконструкція житлового будинку з розширенням ...</td>\n",
       "      <td>1110.3. Будинки садибного типу</td>\n",
       "      <td>0.0</td>\n",
       "      <td>0</td>\n",
       "      <td>3510300000:03:105:0004,</td>\n",
       "      <td>Кіровоградська обл., м. Олександрія</td>\n",
       "      <td>договір сервітуту</td>\n",
       "      <td>1</td>\n",
       "    </tr>\n",
       "  </tbody>\n",
       "</table>\n",
       "</div>"
      ],
      "text/plain": [
       "        id           EdrkoNo      Date03  RoomsAdd  \\\n",
       "0  2492225   ДЦ 061200010001  2020-01-01         6   \n",
       "1  2492228  КД  061200020010  2020-01-02         6   \n",
       "\n",
       "                                         RecDistrict  \\\n",
       "0  Житловий будинок, господарські будівлі та споруди   \n",
       "1  Реконструкція житлового будинку з розширенням ...   \n",
       "\n",
       "                         dk018code  square  k_pov                  kadastr  \\\n",
       "0  1110.4. Будинки дачні та садові     0.0      0  1423984400:02:000:4404,   \n",
       "1   1110.3. Будинки садибного типу     0.0      0  3510300000:03:105:0004,   \n",
       "\n",
       "                                         RegDistrict                  zemldoc  \\\n",
       "0  Донецька обл., Мангушський р-н, с. Білосарайсь...  договір купівлі-продажу   \n",
       "1                Кіровоградська обл., м. Олександрія        договір сервітуту   \n",
       "\n",
       "   ClassNaslidkiv  \n",
       "0               1  \n",
       "1               1  "
      ]
     },
     "execution_count": 14,
     "metadata": {},
     "output_type": "execute_result"
    }
   ],
   "source": [
    "df.head(2)"
   ]
  },
  {
   "cell_type": "code",
   "execution_count": 15,
   "metadata": {},
   "outputs": [],
   "source": [
    "# Save Point\n",
    "df.to_pickle(\"./dummy.pkl\")"
   ]
  },
  {
   "cell_type": "code",
   "execution_count": 16,
   "metadata": {},
   "outputs": [],
   "source": [
    "# Respawn \n",
    "df = pd.read_pickle(\"./dummy.pkl\")"
   ]
  },
  {
   "cell_type": "markdown",
   "metadata": {},
   "source": [
    "### Postponed task\n",
    "1. Impute missing data in 'dk018code' by related data from 'RecDistric'\n",
    "2. Impute missing data in 'RegDistrict' based on fist two character in 'EdrkoNo'\n",
    "\n"
   ]
  },
  {
   "cell_type": "code",
   "execution_count": 17,
   "metadata": {},
   "outputs": [],
   "source": [
    "# Meanwhile, let's drop all observation with any missing values\n",
    "df.dropna(inplace=True)\n",
    "df.reset_index(drop=True, inplace=True)"
   ]
  },
  {
   "cell_type": "code",
   "execution_count": 18,
   "metadata": {},
   "outputs": [
    {
     "data": {
      "text/plain": [
       "Series([], dtype: float64)"
      ]
     },
     "execution_count": 18,
     "metadata": {},
     "output_type": "execute_result"
    }
   ],
   "source": [
    "# Missing Data Exact Count\n",
    "null_columns=df.columns[df.isnull().any()]\n",
    "df[null_columns].isnull().sum()"
   ]
  },
  {
   "cell_type": "markdown",
   "metadata": {},
   "source": [
    "-----"
   ]
  },
  {
   "cell_type": "markdown",
   "metadata": {},
   "source": [
    "### 1. Detail value decoding and explanation"
   ]
  },
  {
   "cell_type": "code",
   "execution_count": 19,
   "metadata": {
    "scrolled": true
   },
   "outputs": [],
   "source": [
    "# 'dk018code' is DK018 code from State classifier of buildings and structures.\n",
    "# Code clarification     # - chapter\n",
    "                         ## - section  \n",
    "                         ### - group\n",
    "                         #### - class\n",
    "                         ####.# - sub-class\n",
    "# We have 209 \"unique\" values. Lets split code number, down to 'chapter', 'section', 'group', and add description\n",
    "df['dk018chapter']= df['dk018code'].str[:1].astype(int)\n",
    "df['dk018chaptername'] = np.nan\n",
    "df['dk018section']= df['dk018code'].str[:2].astype(int)\n",
    "df['dk018sectionname'] = np.nan\n",
    "df['dk018group']= df['dk018code'].str[:3].astype(int)\n",
    "df['dk018groupname'] = np.nan"
   ]
  },
  {
   "cell_type": "markdown",
   "metadata": {},
   "source": [
    "### Postponed task\n",
    "3. Parse/Scrape webpage with detailed code description\n",
    "https://zakon.rada.gov.ua/rada/show/ru/va507565-00/sp:wide#o1562"
   ]
  },
  {
   "cell_type": "code",
   "execution_count": 20,
   "metadata": {
    "scrolled": false
   },
   "outputs": [
    {
     "data": {
      "text/html": [
       "<div>\n",
       "<style scoped>\n",
       "    .dataframe tbody tr th:only-of-type {\n",
       "        vertical-align: middle;\n",
       "    }\n",
       "\n",
       "    .dataframe tbody tr th {\n",
       "        vertical-align: top;\n",
       "    }\n",
       "\n",
       "    .dataframe thead th {\n",
       "        text-align: right;\n",
       "    }\n",
       "</style>\n",
       "<table border=\"1\" class=\"dataframe\">\n",
       "  <thead>\n",
       "    <tr style=\"text-align: right;\">\n",
       "      <th></th>\n",
       "      <th>Code</th>\n",
       "      <th>Info</th>\n",
       "    </tr>\n",
       "  </thead>\n",
       "  <tbody>\n",
       "    <tr>\n",
       "      <th>0</th>\n",
       "      <td>1</td>\n",
       "      <td>БУДІВЛІ</td>\n",
       "    </tr>\n",
       "    <tr>\n",
       "      <th>1</th>\n",
       "      <td>11</td>\n",
       "      <td>Будівлі житлові</td>\n",
       "    </tr>\n",
       "    <tr>\n",
       "      <th>2</th>\n",
       "      <td>111</td>\n",
       "      <td>Будинки одноквартирні</td>\n",
       "    </tr>\n",
       "    <tr>\n",
       "      <th>3</th>\n",
       "      <td>112</td>\n",
       "      <td>Будинки з двома та більше квартирами</td>\n",
       "    </tr>\n",
       "    <tr>\n",
       "      <th>4</th>\n",
       "      <td>113</td>\n",
       "      <td>Гуртожитки</td>\n",
       "    </tr>\n",
       "  </tbody>\n",
       "</table>\n",
       "</div>"
      ],
      "text/plain": [
       "   Code                                  Info\n",
       "0     1                               БУДІВЛІ\n",
       "1    11                       Будівлі житлові\n",
       "2   111                 Будинки одноквартирні\n",
       "3   112  Будинки з двома та більше квартирами\n",
       "4   113                            Гуртожитки"
      ]
     },
     "execution_count": 20,
     "metadata": {},
     "output_type": "execute_result"
    }
   ],
   "source": [
    "# Meanwhile, let's use \"handmaded\" dataset\n",
    "df_DK018codes=pd.read_csv(\"input\\DK018codes.csv\")\n",
    "df_DK018codes.head()"
   ]
  },
  {
   "cell_type": "code",
   "execution_count": 21,
   "metadata": {
    "scrolled": true
   },
   "outputs": [],
   "source": [
    "# Fill the data\n",
    "for key, value in zip(df_DK018codes.Code,df_DK018codes.Info):\n",
    "    df.at[df.index[df['dk018chapter'] == key], 'dk018chaptername'] = value\n",
    "    df.at[df.index[df['dk018section'] == key], 'dk018sectionname'] = value\n",
    "    df.at[df.index[df['dk018group'] == key], 'dk018groupname'] = value"
   ]
  },
  {
   "cell_type": "code",
   "execution_count": 22,
   "metadata": {
    "scrolled": true
   },
   "outputs": [
    {
     "data": {
      "text/html": [
       "<div>\n",
       "<style scoped>\n",
       "    .dataframe tbody tr th:only-of-type {\n",
       "        vertical-align: middle;\n",
       "    }\n",
       "\n",
       "    .dataframe tbody tr th {\n",
       "        vertical-align: top;\n",
       "    }\n",
       "\n",
       "    .dataframe thead th {\n",
       "        text-align: right;\n",
       "    }\n",
       "</style>\n",
       "<table border=\"1\" class=\"dataframe\">\n",
       "  <thead>\n",
       "    <tr style=\"text-align: right;\">\n",
       "      <th></th>\n",
       "      <th>dk018code</th>\n",
       "      <th>dk018chapter</th>\n",
       "      <th>dk018chaptername</th>\n",
       "      <th>dk018section</th>\n",
       "      <th>dk018sectionname</th>\n",
       "      <th>dk018group</th>\n",
       "      <th>dk018groupname</th>\n",
       "    </tr>\n",
       "  </thead>\n",
       "  <tbody>\n",
       "    <tr>\n",
       "      <th>0</th>\n",
       "      <td>1110.4. Будинки дачні та садові</td>\n",
       "      <td>1</td>\n",
       "      <td>БУДІВЛІ</td>\n",
       "      <td>11</td>\n",
       "      <td>Будівлі житлові</td>\n",
       "      <td>111</td>\n",
       "      <td>Будинки одноквартирні</td>\n",
       "    </tr>\n",
       "    <tr>\n",
       "      <th>1</th>\n",
       "      <td>1110.3. Будинки садибного типу</td>\n",
       "      <td>1</td>\n",
       "      <td>БУДІВЛІ</td>\n",
       "      <td>11</td>\n",
       "      <td>Будівлі житлові</td>\n",
       "      <td>111</td>\n",
       "      <td>Будинки одноквартирні</td>\n",
       "    </tr>\n",
       "    <tr>\n",
       "      <th>2</th>\n",
       "      <td>1110.3. Будинки садибного типу</td>\n",
       "      <td>1</td>\n",
       "      <td>БУДІВЛІ</td>\n",
       "      <td>11</td>\n",
       "      <td>Будівлі житлові</td>\n",
       "      <td>111</td>\n",
       "      <td>Будинки одноквартирні</td>\n",
       "    </tr>\n",
       "    <tr>\n",
       "      <th>3</th>\n",
       "      <td>1110.3. Будинки садибного типу</td>\n",
       "      <td>1</td>\n",
       "      <td>БУДІВЛІ</td>\n",
       "      <td>11</td>\n",
       "      <td>Будівлі житлові</td>\n",
       "      <td>111</td>\n",
       "      <td>Будинки одноквартирні</td>\n",
       "    </tr>\n",
       "    <tr>\n",
       "      <th>4</th>\n",
       "      <td>1110.3. Будинки садибного типу</td>\n",
       "      <td>1</td>\n",
       "      <td>БУДІВЛІ</td>\n",
       "      <td>11</td>\n",
       "      <td>Будівлі житлові</td>\n",
       "      <td>111</td>\n",
       "      <td>Будинки одноквартирні</td>\n",
       "    </tr>\n",
       "    <tr>\n",
       "      <th>...</th>\n",
       "      <td>...</td>\n",
       "      <td>...</td>\n",
       "      <td>...</td>\n",
       "      <td>...</td>\n",
       "      <td>...</td>\n",
       "      <td>...</td>\n",
       "      <td>...</td>\n",
       "    </tr>\n",
       "    <tr>\n",
       "      <th>42198</th>\n",
       "      <td>1122.2. Будинки багатоквартирні підвищеної ком...</td>\n",
       "      <td>1</td>\n",
       "      <td>БУДІВЛІ</td>\n",
       "      <td>11</td>\n",
       "      <td>Будівлі житлові</td>\n",
       "      <td>112</td>\n",
       "      <td>Будинки з двома та більше квартирами</td>\n",
       "    </tr>\n",
       "    <tr>\n",
       "      <th>42199</th>\n",
       "      <td>1110.4. Будинки дачні та садові</td>\n",
       "      <td>1</td>\n",
       "      <td>БУДІВЛІ</td>\n",
       "      <td>11</td>\n",
       "      <td>Будівлі житлові</td>\n",
       "      <td>111</td>\n",
       "      <td>Будинки одноквартирні</td>\n",
       "    </tr>\n",
       "    <tr>\n",
       "      <th>42200</th>\n",
       "      <td>1110.4. Будинки дачні та садові</td>\n",
       "      <td>1</td>\n",
       "      <td>БУДІВЛІ</td>\n",
       "      <td>11</td>\n",
       "      <td>Будівлі житлові</td>\n",
       "      <td>111</td>\n",
       "      <td>Будинки одноквартирні</td>\n",
       "    </tr>\n",
       "    <tr>\n",
       "      <th>42201</th>\n",
       "      <td>1110.4. Будинки дачні та садові</td>\n",
       "      <td>1</td>\n",
       "      <td>БУДІВЛІ</td>\n",
       "      <td>11</td>\n",
       "      <td>Будівлі житлові</td>\n",
       "      <td>111</td>\n",
       "      <td>Будинки одноквартирні</td>\n",
       "    </tr>\n",
       "    <tr>\n",
       "      <th>42202</th>\n",
       "      <td>1110.4. Будинки дачні та садові</td>\n",
       "      <td>1</td>\n",
       "      <td>БУДІВЛІ</td>\n",
       "      <td>11</td>\n",
       "      <td>Будівлі житлові</td>\n",
       "      <td>111</td>\n",
       "      <td>Будинки одноквартирні</td>\n",
       "    </tr>\n",
       "  </tbody>\n",
       "</table>\n",
       "<p>42203 rows × 7 columns</p>\n",
       "</div>"
      ],
      "text/plain": [
       "                                               dk018code  dk018chapter  \\\n",
       "0                        1110.4. Будинки дачні та садові             1   \n",
       "1                         1110.3. Будинки садибного типу             1   \n",
       "2                         1110.3. Будинки садибного типу             1   \n",
       "3                         1110.3. Будинки садибного типу             1   \n",
       "4                         1110.3. Будинки садибного типу             1   \n",
       "...                                                  ...           ...   \n",
       "42198  1122.2. Будинки багатоквартирні підвищеної ком...             1   \n",
       "42199                    1110.4. Будинки дачні та садові             1   \n",
       "42200                    1110.4. Будинки дачні та садові             1   \n",
       "42201                    1110.4. Будинки дачні та садові             1   \n",
       "42202                    1110.4. Будинки дачні та садові             1   \n",
       "\n",
       "      dk018chaptername  dk018section dk018sectionname  dk018group  \\\n",
       "0              БУДІВЛІ            11  Будівлі житлові         111   \n",
       "1              БУДІВЛІ            11  Будівлі житлові         111   \n",
       "2              БУДІВЛІ            11  Будівлі житлові         111   \n",
       "3              БУДІВЛІ            11  Будівлі житлові         111   \n",
       "4              БУДІВЛІ            11  Будівлі житлові         111   \n",
       "...                ...           ...              ...         ...   \n",
       "42198          БУДІВЛІ            11  Будівлі житлові         112   \n",
       "42199          БУДІВЛІ            11  Будівлі житлові         111   \n",
       "42200          БУДІВЛІ            11  Будівлі житлові         111   \n",
       "42201          БУДІВЛІ            11  Будівлі житлові         111   \n",
       "42202          БУДІВЛІ            11  Будівлі житлові         111   \n",
       "\n",
       "                             dk018groupname  \n",
       "0                     Будинки одноквартирні  \n",
       "1                     Будинки одноквартирні  \n",
       "2                     Будинки одноквартирні  \n",
       "3                     Будинки одноквартирні  \n",
       "4                     Будинки одноквартирні  \n",
       "...                                     ...  \n",
       "42198  Будинки з двома та більше квартирами  \n",
       "42199                 Будинки одноквартирні  \n",
       "42200                 Будинки одноквартирні  \n",
       "42201                 Будинки одноквартирні  \n",
       "42202                 Будинки одноквартирні  \n",
       "\n",
       "[42203 rows x 7 columns]"
      ]
     },
     "execution_count": 22,
     "metadata": {},
     "output_type": "execute_result"
    }
   ],
   "source": [
    "# Check results. look at dk018 columns only\n",
    "dk_cols = [col for col in df.columns if 'dk018' in col]\n",
    "df[dk_cols]"
   ]
  },
  {
   "cell_type": "code",
   "execution_count": 23,
   "metadata": {
    "scrolled": true
   },
   "outputs": [
    {
     "data": {
      "image/png": "[encoded data removed]",
      "text/plain": [
       "<Figure size 1080x720 with 1 Axes>"
      ]
     },
     "metadata": {},
     "output_type": "display_data"
    }
   ],
   "source": [
    "# Data is ready for further Data Analysis\n",
    "# E.g. Only \"БУДІВЛІ\"(Buildings) sample\n",
    "ax = sns.countplot(y=\"dk018groupname\", data=df[df['dk018chapter'] == 1])"
   ]
  },
  {
   "cell_type": "markdown",
   "metadata": {},
   "source": [
    "-----"
   ]
  },
  {
   "cell_type": "markdown",
   "metadata": {},
   "source": [
    "### 2. Ordering of geo data"
   ]
  },
  {
   "cell_type": "code",
   "execution_count": 24,
   "metadata": {
    "scrolled": false
   },
   "outputs": [
    {
     "data": {
      "text/plain": [
       "Харківська обл., м. Харків                           710\n",
       "Дніпропетровська обл., м. Дніпро                     695\n",
       "Хмельницька обл., м. Хмельницький                    474\n",
       "Вінницька обл., м. Вінниця                           391\n",
       "Київська обл., м. Ірпінь                             375\n",
       "                                                    ... \n",
       "Полтавська обл., Диканський р-н, с. Ландарі            1\n",
       "Львівська обл., Стрийський р-н, с. Гайдучина           1\n",
       "Донецька обл., Добропільський р-н, с. Никанорівка      1\n",
       "Сумська обл., Сумський р-н, с. Кровне                  1\n",
       "Одеська обл., Роздільнянський р-н, с. Степове          1\n",
       "Name: RegDistrict, Length: 6979, dtype: int64"
      ]
     },
     "execution_count": 24,
     "metadata": {},
     "output_type": "execute_result"
    }
   ],
   "source": [
    "df.RegDistrict.value_counts()"
   ]
  },
  {
   "cell_type": "code",
   "execution_count": 25,
   "metadata": {},
   "outputs": [
    {
     "data": {
      "text/html": [
       "<div>\n",
       "<style scoped>\n",
       "    .dataframe tbody tr th:only-of-type {\n",
       "        vertical-align: middle;\n",
       "    }\n",
       "\n",
       "    .dataframe tbody tr th {\n",
       "        vertical-align: top;\n",
       "    }\n",
       "\n",
       "    .dataframe thead th {\n",
       "        text-align: right;\n",
       "    }\n",
       "</style>\n",
       "<table border=\"1\" class=\"dataframe\">\n",
       "  <thead>\n",
       "    <tr style=\"text-align: right;\">\n",
       "      <th></th>\n",
       "      <th>0</th>\n",
       "      <th>1</th>\n",
       "      <th>2</th>\n",
       "      <th>3</th>\n",
       "      <th>4</th>\n",
       "    </tr>\n",
       "  </thead>\n",
       "  <tbody>\n",
       "    <tr>\n",
       "      <th>0</th>\n",
       "      <td>Донецька обл.</td>\n",
       "      <td>Мангушський р-н</td>\n",
       "      <td>с. Білосарайська Коса</td>\n",
       "      <td>None</td>\n",
       "      <td>None</td>\n",
       "    </tr>\n",
       "    <tr>\n",
       "      <th>1</th>\n",
       "      <td>Кіровоградська обл.</td>\n",
       "      <td>м. Олександрія</td>\n",
       "      <td>None</td>\n",
       "      <td>None</td>\n",
       "      <td>None</td>\n",
       "    </tr>\n",
       "    <tr>\n",
       "      <th>2</th>\n",
       "      <td>Кіровоградська обл.</td>\n",
       "      <td>м. Олександрія</td>\n",
       "      <td>с. Марто-Іванівка</td>\n",
       "      <td>None</td>\n",
       "      <td>None</td>\n",
       "    </tr>\n",
       "    <tr>\n",
       "      <th>3</th>\n",
       "      <td>Київська обл.</td>\n",
       "      <td>м. Обухів</td>\n",
       "      <td>None</td>\n",
       "      <td>None</td>\n",
       "      <td>None</td>\n",
       "    </tr>\n",
       "    <tr>\n",
       "      <th>4</th>\n",
       "      <td>Закарпатська обл.</td>\n",
       "      <td>м. Ужгород</td>\n",
       "      <td>None</td>\n",
       "      <td>None</td>\n",
       "      <td>None</td>\n",
       "    </tr>\n",
       "    <tr>\n",
       "      <th>...</th>\n",
       "      <td>...</td>\n",
       "      <td>...</td>\n",
       "      <td>...</td>\n",
       "      <td>...</td>\n",
       "      <td>...</td>\n",
       "    </tr>\n",
       "    <tr>\n",
       "      <th>42198</th>\n",
       "      <td>м.Київ</td>\n",
       "      <td>Печерський</td>\n",
       "      <td>None</td>\n",
       "      <td>None</td>\n",
       "      <td>None</td>\n",
       "    </tr>\n",
       "    <tr>\n",
       "      <th>42199</th>\n",
       "      <td>Київська обл.</td>\n",
       "      <td>Бориспільський р-н</td>\n",
       "      <td>с. Глибоке</td>\n",
       "      <td>None</td>\n",
       "      <td>None</td>\n",
       "    </tr>\n",
       "    <tr>\n",
       "      <th>42200</th>\n",
       "      <td>Київська обл.</td>\n",
       "      <td>Бориспільський р-н</td>\n",
       "      <td>с. Глибоке</td>\n",
       "      <td>None</td>\n",
       "      <td>None</td>\n",
       "    </tr>\n",
       "    <tr>\n",
       "      <th>42201</th>\n",
       "      <td>Київська обл.</td>\n",
       "      <td>Бориспільський р-н</td>\n",
       "      <td>с. Глибоке</td>\n",
       "      <td>None</td>\n",
       "      <td>None</td>\n",
       "    </tr>\n",
       "    <tr>\n",
       "      <th>42202</th>\n",
       "      <td>Київська обл.</td>\n",
       "      <td>Бориспільський р-н</td>\n",
       "      <td>с. Глибоке</td>\n",
       "      <td>None</td>\n",
       "      <td>None</td>\n",
       "    </tr>\n",
       "  </tbody>\n",
       "</table>\n",
       "<p>42203 rows × 5 columns</p>\n",
       "</div>"
      ],
      "text/plain": [
       "                         0                    1                       2     3  \\\n",
       "0            Донецька обл.      Мангушський р-н   с. Білосарайська Коса  None   \n",
       "1      Кіровоградська обл.       м. Олександрія                    None  None   \n",
       "2      Кіровоградська обл.       м. Олександрія       с. Марто-Іванівка  None   \n",
       "3            Київська обл.            м. Обухів                    None  None   \n",
       "4        Закарпатська обл.           м. Ужгород                    None  None   \n",
       "...                    ...                  ...                     ...   ...   \n",
       "42198               м.Київ           Печерський                    None  None   \n",
       "42199        Київська обл.   Бориспільський р-н              с. Глибоке  None   \n",
       "42200        Київська обл.   Бориспільський р-н              с. Глибоке  None   \n",
       "42201        Київська обл.   Бориспільський р-н              с. Глибоке  None   \n",
       "42202        Київська обл.   Бориспільський р-н              с. Глибоке  None   \n",
       "\n",
       "          4  \n",
       "0      None  \n",
       "1      None  \n",
       "2      None  \n",
       "3      None  \n",
       "4      None  \n",
       "...     ...  \n",
       "42198  None  \n",
       "42199  None  \n",
       "42200  None  \n",
       "42201  None  \n",
       "42202  None  \n",
       "\n",
       "[42203 rows x 5 columns]"
      ]
     },
     "execution_count": 25,
     "metadata": {},
     "output_type": "execute_result"
    }
   ],
   "source": [
    "# Simple split returns many incorrect options due to initial data of different formatting.\n",
    "df_geo = df['RegDistrict'].str.split(\",\", expand=True)\n",
    "df_geo"
   ]
  },
  {
   "cell_type": "markdown",
   "metadata": {},
   "source": [
    "### Postponed task\n",
    "4. Split string value: looking for marker 'обл' and then moving backwards to the start looking for first appeared uppercase latter. Then cut-out a found value.\n",
    "\n",
    "\n",
    "5. (alt. solution) We can use an administrative dataset of regions and cities names. Look for similarity and set a new clear value from that dataset into the main one.  Класифікатор об’єктів адміністративно-територіального устрою України (КОАТУУ)\n",
    "https://data.gov.ua/dataset/dc081fb0-f504-4696-916c-a5b24312ab6e/resource/296adb7a-476a-40c8-9de6-211327cb3aa1?view_id=d8e343f9-c85e-4cb6-9ac2-ca96b82f0450\n",
    "\n",
    "\n",
    "#### Work in Progress"
   ]
  },
  {
   "cell_type": "code",
   "execution_count": 26,
   "metadata": {},
   "outputs": [
    {
     "name": "stdout",
     "output_type": "stream",
     "text": [
      "Донецька обл., Мангушський р-н, с. Білосарайська Коса\n",
      "9\n",
      "Кіровоградська обл., м. Олександрія\n",
      "15\n",
      "Кіровоградська обл., м. Олександрія, с. Марто-Іванівка\n",
      "15\n",
      "Київська обл., м. Обухів\n",
      "9\n",
      "Закарпатська обл., м. Ужгород\n",
      "13\n",
      "Дніпропетровська обл., м. Дніпро\n",
      "17\n",
      "Одеська обл., м. Білгород-Дністровський, смт Затока\n",
      "8\n",
      "Кіровоградська обл., Знам'янський р-н, с. Богданівка\n",
      "15\n",
      "Кіровоградська обл., м. Знам'янка\n",
      "15\n"
     ]
    }
   ],
   "source": [
    "counter = 1\n",
    "for x in df['RegDistrict']:\n",
    "    # Test on first 10 rows\n",
    "    counter += 1\n",
    "    if counter > 10: break \n",
    "      \n",
    "    print(x)\n",
    "    \n",
    "    # looking for \"обл.\" this is abreviation for word 'область'(region)\n",
    "    marker = 'обл.'\n",
    "    y = x.index(marker)   \n",
    "    print(y)        "
   ]
  },
  {
   "cell_type": "markdown",
   "metadata": {},
   "source": [
    "-----"
   ]
  },
  {
   "cell_type": "markdown",
   "metadata": {},
   "source": [
    "### 3. Dimensionality Reduction. (in progress) \n"
   ]
  },
  {
   "cell_type": "code",
   "execution_count": 27,
   "metadata": {
    "scrolled": false
   },
   "outputs": [
    {
     "data": {
      "text/plain": [
       "Будівництво індивідуального житлового будинку                                                                               1637\n",
       "Будівництво житлового будинку                                                                                               1164\n",
       "Індивідуальний житловий будинок                                                                                             1116\n",
       "Реконструкція житлового будинку                                                                                              565\n",
       "Житловий будинок                                                                                                             546\n",
       "                                                                                                                            ... \n",
       "Нове будівництво дачного будинку та господарської будівлі                                                                      1\n",
       "Реконструкція квартири № 55 з розподілом на дві окремі квартири в житловому будинку                                            1\n",
       "Будівництво корпусу літ. В                                                                                                     1\n",
       "Реконструкція нежитлового приміщення номер  1-4 (І поверху) по вулиці Тарасівській, 38  у Голосіївському районі м. Києва       1\n",
       "Нове будівництво безконтактної автомийки на 6-постів із самообслуговуванням по вул. Транспортна, 50 у м. Хмельницькому         1\n",
       "Name: RecDistrict, Length: 20770, dtype: int64"
      ]
     },
     "execution_count": 27,
     "metadata": {},
     "output_type": "execute_result"
    }
   ],
   "source": [
    "# 'dk018code' is DK018 code from State classifier of buildings and structures. and we have 1.0% of missing values\n",
    "df.RecDistrict.value_counts()"
   ]
  },
  {
   "cell_type": "markdown",
   "metadata": {},
   "source": [
    "### Postponed task\n",
    "\n",
    "1. Many of individual, rare data similar to more frequent data, basically the same with an error or mistyped. We can use some algorithms to find similarities and add small rare data towards a big one."
   ]
  },
  {
   "cell_type": "code",
   "execution_count": 28,
   "metadata": {
    "scrolled": true
   },
   "outputs": [],
   "source": [
    "# Meanwhile, let`s drop observation with low frequency, say less than 10\n",
    "# df = df[df.groupby('RecDistrict')['RecDistrict'].transform('count').ge(10)]\n",
    "# df.RecDistrict.value_counts()"
   ]
  },
  {
   "cell_type": "code",
   "execution_count": 29,
   "metadata": {},
   "outputs": [],
   "source": [
    "# As results, unique values count drops from 20770 down to 252, \n",
    "# but observation count drops from 46K down to 17K. Need another solution"
   ]
  },
  {
   "cell_type": "markdown",
   "metadata": {},
   "source": [
    "---"
   ]
  },
  {
   "cell_type": "markdown",
   "metadata": {},
   "source": [
    "### Export "
   ]
  },
  {
   "cell_type": "code",
   "execution_count": 30,
   "metadata": {},
   "outputs": [],
   "source": [
    "# DataSet ready for export and further Data Analysis\n",
    "df.to_csv('output\\DABK_reg.csv', index=False, encoding='utf-8')"
   ]
  }
 ],
 "metadata": {
  "kernelspec": {
   "display_name": "Python 3",
   "language": "python",
   "name": "python3"
  },
  "language_info": {
   "codemirror_mode": {
    "name": "ipython",
    "version": 3
   },
   "file_extension": ".py",
   "mimetype": "text/x-python",
   "name": "python",
   "nbconvert_exporter": "python",
   "pygments_lexer": "ipython3",
   "version": "3.7.7"
  }
 },
 "nbformat": 4,
 "nbformat_minor": 4
}
